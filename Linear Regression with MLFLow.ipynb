{
 "cells": [
  {
   "cell_type": "markdown",
   "id": "686c8adf",
   "metadata": {},
   "source": [
    "# Linear Regression with MLFLow\n",
    "\n",
    "Train a linear regression model that takes two hyperparameters: alpha and l1_ratio."
   ]
  },
  {
   "cell_type": "code",
   "execution_count": 1,
   "id": "9a7ed571",
   "metadata": {},
   "outputs": [],
   "source": [
    "# The data set used in this example is from http://archive.ics.uci.edu/ml/datasets/Wine+Quality\n",
    "# Modeling wine preferences by data mining from physicochemical properties.\n",
    "\n",
    "#Import Libraries\n",
    "import os\n",
    "import warnings\n",
    "import sys\n",
    "\n",
    "import pandas as pd\n",
    "import numpy as np\n",
    "from sklearn.metrics import mean_squared_error, mean_absolute_error, r2_score\n",
    "from sklearn.model_selection import train_test_split\n",
    "from sklearn.linear_model import ElasticNet\n",
    "from urllib.parse import urlparse\n",
    "import mlflow\n",
    "from mlflow.models.signature import infer_signature\n",
    "import mlflow.sklearn\n",
    "import logging\n",
    "import matplotlib.pyplot as plt"
   ]
  },
  {
   "cell_type": "code",
   "execution_count": 2,
   "id": "5c10f2c5",
   "metadata": {},
   "outputs": [],
   "source": [
    "logging.basicConfig(level=logging.WARN)\n",
    "logger = logging.getLogger(__name__)\n",
    "\n",
    "\n",
    "#Helper function for evaluation metrics\n",
    "def eval_metrics(actual, pred):\n",
    "    rmse = np.sqrt(mean_squared_error(actual, pred))\n",
    "    mae = mean_absolute_error(actual, pred)\n",
    "    r2 = r2_score(actual, pred)\n",
    "    return rmse, mae, r2"
   ]
  },
  {
   "cell_type": "code",
   "execution_count": 3,
   "id": "6197236b",
   "metadata": {},
   "outputs": [
    {
     "name": "stdout",
     "output_type": "stream",
     "text": [
      "Elasticnet model (alpha=0.000000, l1_ratio=0.000000):\n",
      "  RMSE: 0.660381122446162\n",
      "  MAE: 0.5073644199888925\n",
      "  R2: 0.38209312191101596\n"
     ]
    }
   ],
   "source": [
    "if __name__ == \"__main__\":\n",
    "    warnings.filterwarnings(\"ignore\")\n",
    "    np.random.seed(40)\n",
    "\n",
    "    # Read the wine-quality csv file from the URL\n",
    "    csv_url = (\n",
    "        \"https://raw.githubusercontent.com/mlflow/mlflow/master/tests/datasets/winequality-red.csv\"\n",
    "    )\n",
    "    try:\n",
    "        data = pd.read_csv(csv_url, sep=\";\")\n",
    "    except Exception as e:\n",
    "        logger.exception(\n",
    "            \"Unable to download training & test CSV, check your internet connection. Error: %s\", e\n",
    "        )\n",
    "\n",
    "    # Split the data into training and test sets. (0.75, 0.25) split.\n",
    "    train, test = train_test_split(data)\n",
    "\n",
    "    # The predicted column is \"quality\" which is a scalar from [3, 9]\n",
    "    train_x = train.drop([\"quality\"], axis=1)\n",
    "    test_x = test.drop([\"quality\"], axis=1)\n",
    "    train_y = train[[\"quality\"]]\n",
    "    test_y = test[[\"quality\"]]\n",
    "\n",
    "    #alpha = float(sys.argv[1]) if len(sys.argv) > 1 else 0.5\n",
    "    #l1_ratio = float(sys.argv[2]) if len(sys.argv) > 2 else 0.5\n",
    "    #I'm getting errors trying to convert the strings to float, so I'm hard coding the hyper parameters and varying them manually between runs\n",
    "    alpha = 0\n",
    "    l1_ratio = 0\n",
    "\n",
    "    with mlflow.start_run():\n",
    "        lr = ElasticNet(alpha=alpha, l1_ratio=l1_ratio, random_state=42)\n",
    "        #Train model\n",
    "        lr.fit(train_x, train_y)\n",
    "        \n",
    "        #make predictions on test set\n",
    "        predicted_qualities = lr.predict(test_x)\n",
    "        \n",
    "        #get the evaluation metrics\n",
    "        (rmse, mae, r2) = eval_metrics(test_y, predicted_qualities)\n",
    "        \n",
    "        #Print results\n",
    "        print(\"Elasticnet model (alpha={:f}, l1_ratio={:f}):\".format(alpha, l1_ratio))\n",
    "        print(\"  RMSE: %s\" % rmse)\n",
    "        print(\"  MAE: %s\" % mae)\n",
    "        print(\"  R2: %s\" % r2)\n",
    "        \n",
    "        #Log parameters and metrics\n",
    "        mlflow.log_param(\"alpha\", alpha)\n",
    "        mlflow.log_param(\"l1_ratio\", l1_ratio)\n",
    "        mlflow.log_metric(\"rmse\", rmse)\n",
    "        mlflow.log_metric(\"r2\", r2)\n",
    "        mlflow.log_metric(\"mae\", mae)\n",
    "\n",
    "        #make predictions on train set\n",
    "        predictions = lr.predict(train_x)\n",
    "        signature = infer_signature(train_x, predictions)\n",
    "\n",
    "        #register url\n",
    "        tracking_url_type_store = urlparse(mlflow.get_tracking_uri()).scheme\n",
    "\n",
    "        # Model registry does not work with file store\n",
    "        if tracking_url_type_store != \"file\":\n",
    "            # Register the model\n",
    "            # There are other ways to use the Model Registry, which depends on the use case,\n",
    "            # please refer to the doc for more information:\n",
    "            # https://mlflow.org/docs/latest/model-registry.html#api-workflow\n",
    "            mlflow.sklearn.log_model(\n",
    "                lr, \"model\", registered_model_name=\"ElasticnetWineModel\", signature=signature\n",
    "            )\n",
    "        else:\n",
    "            mlflow.sklearn.log_model(lr, \"model\", signature=signature)"
   ]
  },
  {
   "cell_type": "code",
   "execution_count": null,
   "id": "8d0c17fb",
   "metadata": {},
   "outputs": [],
   "source": [
    "    # Log the sklearn model and register as version 1\n",
    "    mlflow.sklearn.log_model(\n",
    "        sk_model=model,\n",
    "        artifact_path=\"sklearn-model\",\n",
    "        signature=signature,\n",
    "        registered_model_name=\"Wine_Predictions\","
   ]
  },
  {
   "cell_type": "code",
   "execution_count": 7,
   "id": "cea28731",
   "metadata": {},
   "outputs": [
    {
     "name": "stdout",
     "output_type": "stream",
     "text": [
      "[2023-06-08 10:49:42 -0500] [69967] [INFO] Starting gunicorn 20.1.0\n",
      "[2023-06-08 10:49:42 -0500] [69967] [INFO] Listening at: http://127.0.0.1:5000 (69967)\n",
      "[2023-06-08 10:49:42 -0500] [69967] [INFO] Using worker: sync\n",
      "[2023-06-08 10:49:42 -0500] [69968] [INFO] Booting worker with pid: 69968\n",
      "[2023-06-08 10:49:42 -0500] [69969] [INFO] Booting worker with pid: 69969\n",
      "[2023-06-08 10:49:42 -0500] [69970] [INFO] Booting worker with pid: 69970\n",
      "[2023-06-08 10:49:42 -0500] [69971] [INFO] Booting worker with pid: 69971\n",
      "^C\n",
      "[2023-06-08 10:49:52 -0500] [69967] [INFO] Handling signal: int\n",
      "[2023-06-08 10:49:52 -0500] [69969] [INFO] Worker exiting (pid: 69969)\n",
      "[2023-06-08 10:49:52 -0500] [69968] [INFO] Worker exiting (pid: 69968)\n",
      "[2023-06-08 10:49:52 -0500] [69970] [INFO] Worker exiting (pid: 69970)\n",
      "[2023-06-08 10:49:52 -0500] [69971] [INFO] Worker exiting (pid: 69971)\n"
     ]
    }
   ],
   "source": [
    "#Look at MLFlow metric, parameters and artifacts in UI\n",
    "!mlflow ui\n",
    "#!mlflow ui --host 0.0.0.0"
   ]
  },
  {
   "cell_type": "markdown",
   "id": "ee1bf2b2",
   "metadata": {},
   "source": [
    "Let's Examine the data set we used for our linear model"
   ]
  },
  {
   "cell_type": "code",
   "execution_count": null,
   "id": "1ab7d7b9",
   "metadata": {},
   "outputs": [],
   "source": [
    "data.head()"
   ]
  },
  {
   "cell_type": "code",
   "execution_count": null,
   "id": "9b9fbbee",
   "metadata": {},
   "outputs": [],
   "source": [
    "data.describe()"
   ]
  },
  {
   "cell_type": "code",
   "execution_count": null,
   "id": "131c01a9",
   "metadata": {},
   "outputs": [],
   "source": [
    "len(data)"
   ]
  },
  {
   "cell_type": "code",
   "execution_count": null,
   "id": "e2874b37",
   "metadata": {},
   "outputs": [],
   "source": [
    "data.dtypes"
   ]
  },
  {
   "cell_type": "code",
   "execution_count": null,
   "id": "6558dc6d",
   "metadata": {},
   "outputs": [],
   "source": [
    "# Plot histograms for each variable in the dataframe\n",
    "data.hist(bins='auto',figsize=(10, 6))\n",
    "\n",
    "# Adjust spacing between subplots\n",
    "plt.tight_layout()\n",
    "\n",
    "# Display the histograms\n",
    "plt.show()"
   ]
  },
  {
   "cell_type": "code",
   "execution_count": null,
   "id": "3e4e26b0",
   "metadata": {},
   "outputs": [],
   "source": []
  }
 ],
 "metadata": {
  "kernelspec": {
   "display_name": "Python 3 (ipykernel)",
   "language": "python",
   "name": "python3"
  },
  "language_info": {
   "codemirror_mode": {
    "name": "ipython",
    "version": 3
   },
   "file_extension": ".py",
   "mimetype": "text/x-python",
   "name": "python",
   "nbconvert_exporter": "python",
   "pygments_lexer": "ipython3",
   "version": "3.9.7"
  }
 },
 "nbformat": 4,
 "nbformat_minor": 5
}
